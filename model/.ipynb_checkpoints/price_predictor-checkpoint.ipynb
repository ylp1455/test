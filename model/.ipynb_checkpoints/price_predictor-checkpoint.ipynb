{
 "cells": [
  {
   "cell_type": "code",
   "execution_count": 2,
   "id": "d00e9c4c",
   "metadata": {},
   "outputs": [
    {
     "name": "stdout",
     "output_type": "stream",
     "text": [
      "Requirement already satisfied: numpy in c:\\users\\sajith madhubashana\\appdata\\local\\programs\\python\\python312\\lib\\site-packages (1.26.4)\n",
      "Requirement already satisfied: pandas in c:\\users\\sajith madhubashana\\appdata\\local\\programs\\python\\python312\\lib\\site-packages (2.2.1)\n",
      "Requirement already satisfied: numpy<2,>=1.26.0 in c:\\users\\sajith madhubashana\\appdata\\local\\programs\\python\\python312\\lib\\site-packages (from pandas) (1.26.4)\n",
      "Requirement already satisfied: python-dateutil>=2.8.2 in c:\\users\\sajith madhubashana\\appdata\\local\\programs\\python\\python312\\lib\\site-packages (from pandas) (2.9.0.post0)\n",
      "Requirement already satisfied: pytz>=2020.1 in c:\\users\\sajith madhubashana\\appdata\\local\\programs\\python\\python312\\lib\\site-packages (from pandas) (2024.1)\n",
      "Requirement already satisfied: tzdata>=2022.7 in c:\\users\\sajith madhubashana\\appdata\\local\\programs\\python\\python312\\lib\\site-packages (from pandas) (2024.1)\n",
      "Requirement already satisfied: six>=1.5 in c:\\users\\sajith madhubashana\\appdata\\local\\programs\\python\\python312\\lib\\site-packages (from python-dateutil>=2.8.2->pandas) (1.16.0)\n"
     ]
    }
   ],
   "source": [
    "!pip install numpy\n",
    "!pip install pandas"
   ]
  },
  {
   "cell_type": "code",
   "execution_count": 3,
   "id": "b2c6d086",
   "metadata": {},
   "outputs": [],
   "source": [
    "import numpy as np\n",
    "import pandas as pd"
   ]
  },
  {
   "cell_type": "code",
   "execution_count": 4,
   "id": "55b0f803",
   "metadata": {},
   "outputs": [],
   "source": [
    "data = pd.read_csv('laptop_price.csv', encoding='latin-1')"
   ]
  },
  {
   "cell_type": "markdown",
   "id": "2bfe9ede",
   "metadata": {},
   "source": [
    "# Data Analysis"
   ]
  },
  {
   "cell_type": "code",
   "execution_count": 5,
   "id": "7c0f4cf8",
   "metadata": {},
   "outputs": [
    {
     "data": {
      "text/html": [
       "<div>\n",
       "<style scoped>\n",
       "    .dataframe tbody tr th:only-of-type {\n",
       "        vertical-align: middle;\n",
       "    }\n",
       "\n",
       "    .dataframe tbody tr th {\n",
       "        vertical-align: top;\n",
       "    }\n",
       "\n",
       "    .dataframe thead th {\n",
       "        text-align: right;\n",
       "    }\n",
       "</style>\n",
       "<table border=\"1\" class=\"dataframe\">\n",
       "  <thead>\n",
       "    <tr style=\"text-align: right;\">\n",
       "      <th></th>\n",
       "      <th>laptop_ID</th>\n",
       "      <th>Company</th>\n",
       "      <th>Product</th>\n",
       "      <th>TypeName</th>\n",
       "      <th>Inches</th>\n",
       "      <th>ScreenResolution</th>\n",
       "      <th>Cpu</th>\n",
       "      <th>Ram</th>\n",
       "      <th>Gpu</th>\n",
       "      <th>OpSys</th>\n",
       "      <th>Weight</th>\n",
       "      <th>Price_euros</th>\n",
       "    </tr>\n",
       "  </thead>\n",
       "  <tbody>\n",
       "    <tr>\n",
       "      <th>0</th>\n",
       "      <td>1</td>\n",
       "      <td>Apple</td>\n",
       "      <td>MacBook Pro</td>\n",
       "      <td>Ultrabook</td>\n",
       "      <td>13.3</td>\n",
       "      <td>IPS Panel Retina Display 2560x1600</td>\n",
       "      <td>Intel Core i5 2.3GHz</td>\n",
       "      <td>8GB</td>\n",
       "      <td>Intel Iris Plus Graphics 640</td>\n",
       "      <td>macOS</td>\n",
       "      <td>1.37kg</td>\n",
       "      <td>1339.69</td>\n",
       "    </tr>\n",
       "    <tr>\n",
       "      <th>1</th>\n",
       "      <td>2</td>\n",
       "      <td>Apple</td>\n",
       "      <td>Macbook Air</td>\n",
       "      <td>Ultrabook</td>\n",
       "      <td>13.3</td>\n",
       "      <td>1440x900</td>\n",
       "      <td>Intel Core i5 1.8GHz</td>\n",
       "      <td>8GB</td>\n",
       "      <td>Intel HD Graphics 6000</td>\n",
       "      <td>macOS</td>\n",
       "      <td>1.34kg</td>\n",
       "      <td>898.94</td>\n",
       "    </tr>\n",
       "  </tbody>\n",
       "</table>\n",
       "</div>"
      ],
      "text/plain": [
       "   laptop_ID Company      Product   TypeName  Inches  \\\n",
       "0          1   Apple  MacBook Pro  Ultrabook    13.3   \n",
       "1          2   Apple  Macbook Air  Ultrabook    13.3   \n",
       "\n",
       "                     ScreenResolution                   Cpu  Ram  \\\n",
       "0  IPS Panel Retina Display 2560x1600  Intel Core i5 2.3GHz  8GB   \n",
       "1                            1440x900  Intel Core i5 1.8GHz  8GB   \n",
       "\n",
       "                            Gpu  OpSys  Weight  Price_euros  \n",
       "0  Intel Iris Plus Graphics 640  macOS  1.37kg      1339.69  \n",
       "1        Intel HD Graphics 6000  macOS  1.34kg       898.94  "
      ]
     },
     "execution_count": 5,
     "metadata": {},
     "output_type": "execute_result"
    }
   ],
   "source": [
    "data.head(2)"
   ]
  },
  {
   "cell_type": "code",
   "execution_count": 6,
   "id": "b2673dd8",
   "metadata": {},
   "outputs": [
    {
     "data": {
      "text/plain": [
       "(1303, 12)"
      ]
     },
     "execution_count": 6,
     "metadata": {},
     "output_type": "execute_result"
    }
   ],
   "source": [
    "data.shape"
   ]
  },
  {
   "cell_type": "code",
   "execution_count": 7,
   "id": "59bef782",
   "metadata": {},
   "outputs": [
    {
     "data": {
      "text/plain": [
       "laptop_ID           0\n",
       "Company             0\n",
       "Product             0\n",
       "TypeName            0\n",
       "Inches              0\n",
       "ScreenResolution    0\n",
       "Cpu                 0\n",
       "Ram                 0\n",
       "Gpu                 0\n",
       "OpSys               0\n",
       "Weight              0\n",
       "Price_euros         0\n",
       "dtype: int64"
      ]
     },
     "execution_count": 7,
     "metadata": {},
     "output_type": "execute_result"
    }
   ],
   "source": [
    "data.isnull().sum()"
   ]
  },
  {
   "cell_type": "code",
   "execution_count": 8,
   "id": "733560b3",
   "metadata": {},
   "outputs": [
    {
     "name": "stdout",
     "output_type": "stream",
     "text": [
      "<class 'pandas.core.frame.DataFrame'>\n",
      "RangeIndex: 1303 entries, 0 to 1302\n",
      "Data columns (total 12 columns):\n",
      " #   Column            Non-Null Count  Dtype  \n",
      "---  ------            --------------  -----  \n",
      " 0   laptop_ID         1303 non-null   int64  \n",
      " 1   Company           1303 non-null   object \n",
      " 2   Product           1303 non-null   object \n",
      " 3   TypeName          1303 non-null   object \n",
      " 4   Inches            1303 non-null   float64\n",
      " 5   ScreenResolution  1303 non-null   object \n",
      " 6   Cpu               1303 non-null   object \n",
      " 7   Ram               1303 non-null   object \n",
      " 8   Gpu               1303 non-null   object \n",
      " 9   OpSys             1303 non-null   object \n",
      " 10  Weight            1303 non-null   object \n",
      " 11  Price_euros       1303 non-null   float64\n",
      "dtypes: float64(2), int64(1), object(9)\n",
      "memory usage: 122.3+ KB\n"
     ]
    }
   ],
   "source": [
    "data.info()"
   ]
  },
  {
   "cell_type": "code",
   "execution_count": 9,
   "id": "7873ec40",
   "metadata": {},
   "outputs": [],
   "source": [
    "data['Ram'] = data['Ram'].str.replace('GB','').astype('int32')\n",
    "data['Weight'] = data['Weight'].str.replace('kg','').astype('float32')"
   ]
  },
  {
   "cell_type": "code",
   "execution_count": 10,
   "id": "39e2a341",
   "metadata": {
    "scrolled": true
   },
   "outputs": [
    {
     "data": {
      "text/html": [
       "<div>\n",
       "<style scoped>\n",
       "    .dataframe tbody tr th:only-of-type {\n",
       "        vertical-align: middle;\n",
       "    }\n",
       "\n",
       "    .dataframe tbody tr th {\n",
       "        vertical-align: top;\n",
       "    }\n",
       "\n",
       "    .dataframe thead th {\n",
       "        text-align: right;\n",
       "    }\n",
       "</style>\n",
       "<table border=\"1\" class=\"dataframe\">\n",
       "  <thead>\n",
       "    <tr style=\"text-align: right;\">\n",
       "      <th></th>\n",
       "      <th>laptop_ID</th>\n",
       "      <th>Company</th>\n",
       "      <th>Product</th>\n",
       "      <th>TypeName</th>\n",
       "      <th>Inches</th>\n",
       "      <th>ScreenResolution</th>\n",
       "      <th>Cpu</th>\n",
       "      <th>Ram</th>\n",
       "      <th>Gpu</th>\n",
       "      <th>OpSys</th>\n",
       "      <th>Weight</th>\n",
       "      <th>Price_euros</th>\n",
       "    </tr>\n",
       "  </thead>\n",
       "  <tbody>\n",
       "    <tr>\n",
       "      <th>0</th>\n",
       "      <td>1</td>\n",
       "      <td>Apple</td>\n",
       "      <td>MacBook Pro</td>\n",
       "      <td>Ultrabook</td>\n",
       "      <td>13.3</td>\n",
       "      <td>IPS Panel Retina Display 2560x1600</td>\n",
       "      <td>Intel Core i5 2.3GHz</td>\n",
       "      <td>8</td>\n",
       "      <td>Intel Iris Plus Graphics 640</td>\n",
       "      <td>macOS</td>\n",
       "      <td>1.37</td>\n",
       "      <td>1339.69</td>\n",
       "    </tr>\n",
       "    <tr>\n",
       "      <th>1</th>\n",
       "      <td>2</td>\n",
       "      <td>Apple</td>\n",
       "      <td>Macbook Air</td>\n",
       "      <td>Ultrabook</td>\n",
       "      <td>13.3</td>\n",
       "      <td>1440x900</td>\n",
       "      <td>Intel Core i5 1.8GHz</td>\n",
       "      <td>8</td>\n",
       "      <td>Intel HD Graphics 6000</td>\n",
       "      <td>macOS</td>\n",
       "      <td>1.34</td>\n",
       "      <td>898.94</td>\n",
       "    </tr>\n",
       "  </tbody>\n",
       "</table>\n",
       "</div>"
      ],
      "text/plain": [
       "   laptop_ID Company      Product   TypeName  Inches  \\\n",
       "0          1   Apple  MacBook Pro  Ultrabook    13.3   \n",
       "1          2   Apple  Macbook Air  Ultrabook    13.3   \n",
       "\n",
       "                     ScreenResolution                   Cpu  Ram  \\\n",
       "0  IPS Panel Retina Display 2560x1600  Intel Core i5 2.3GHz    8   \n",
       "1                            1440x900  Intel Core i5 1.8GHz    8   \n",
       "\n",
       "                            Gpu  OpSys  Weight  Price_euros  \n",
       "0  Intel Iris Plus Graphics 640  macOS    1.37      1339.69  \n",
       "1        Intel HD Graphics 6000  macOS    1.34       898.94  "
      ]
     },
     "execution_count": 10,
     "metadata": {},
     "output_type": "execute_result"
    }
   ],
   "source": [
    "data.head(2)"
   ]
  },
  {
   "cell_type": "code",
   "execution_count": 13,
   "id": "56aa445b-e10c-4ebd-9d00-d304eee38985",
   "metadata": {},
   "outputs": [
    {
     "name": "stdout",
     "output_type": "stream",
     "text": [
      "<class 'pandas.core.frame.DataFrame'>\n",
      "RangeIndex: 1303 entries, 0 to 1302\n",
      "Data columns (total 12 columns):\n",
      " #   Column            Non-Null Count  Dtype  \n",
      "---  ------            --------------  -----  \n",
      " 0   laptop_ID         1303 non-null   int64  \n",
      " 1   Company           1303 non-null   object \n",
      " 2   Product           1303 non-null   object \n",
      " 3   TypeName          1303 non-null   object \n",
      " 4   Inches            1303 non-null   float64\n",
      " 5   ScreenResolution  1303 non-null   object \n",
      " 6   Cpu               1303 non-null   object \n",
      " 7   Ram               1303 non-null   int32  \n",
      " 8   Gpu               1303 non-null   object \n",
      " 9   OpSys             1303 non-null   object \n",
      " 10  Weight            1303 non-null   float32\n",
      " 11  Price_euros       1303 non-null   float64\n",
      "dtypes: float32(1), float64(2), int32(1), int64(1), object(7)\n",
      "memory usage: 112.1+ KB\n"
     ]
    }
   ],
   "source": [
    "data.info()"
   ]
  },
  {
   "cell_type": "code",
   "execution_count": 19,
   "id": "211da773",
   "metadata": {},
   "outputs": [
    {
     "ename": "ValueError",
     "evalue": "could not convert string to float: 'Apple'",
     "output_type": "error",
     "traceback": [
      "\u001b[1;31m---------------------------------------------------------------------------\u001b[0m",
      "\u001b[1;31mValueError\u001b[0m                                Traceback (most recent call last)",
      "Cell \u001b[1;32mIn[19], line 1\u001b[0m\n\u001b[1;32m----> 1\u001b[0m \u001b[43mdata\u001b[49m\u001b[38;5;241;43m.\u001b[39;49m\u001b[43mcorr\u001b[49m\u001b[43m(\u001b[49m\u001b[43m)\u001b[49m[\u001b[38;5;124m'\u001b[39m\u001b[38;5;124mPrice_euros\u001b[39m\u001b[38;5;124m'\u001b[39m]\n",
      "File \u001b[1;32m~\\AppData\\Local\\Programs\\Python\\Python312\\Lib\\site-packages\\pandas\\core\\frame.py:11036\u001b[0m, in \u001b[0;36mDataFrame.corr\u001b[1;34m(self, method, min_periods, numeric_only)\u001b[0m\n\u001b[0;32m  11034\u001b[0m cols \u001b[38;5;241m=\u001b[39m data\u001b[38;5;241m.\u001b[39mcolumns\n\u001b[0;32m  11035\u001b[0m idx \u001b[38;5;241m=\u001b[39m cols\u001b[38;5;241m.\u001b[39mcopy()\n\u001b[1;32m> 11036\u001b[0m mat \u001b[38;5;241m=\u001b[39m \u001b[43mdata\u001b[49m\u001b[38;5;241;43m.\u001b[39;49m\u001b[43mto_numpy\u001b[49m\u001b[43m(\u001b[49m\u001b[43mdtype\u001b[49m\u001b[38;5;241;43m=\u001b[39;49m\u001b[38;5;28;43mfloat\u001b[39;49m\u001b[43m,\u001b[49m\u001b[43m \u001b[49m\u001b[43mna_value\u001b[49m\u001b[38;5;241;43m=\u001b[39;49m\u001b[43mnp\u001b[49m\u001b[38;5;241;43m.\u001b[39;49m\u001b[43mnan\u001b[49m\u001b[43m,\u001b[49m\u001b[43m \u001b[49m\u001b[43mcopy\u001b[49m\u001b[38;5;241;43m=\u001b[39;49m\u001b[38;5;28;43;01mFalse\u001b[39;49;00m\u001b[43m)\u001b[49m\n\u001b[0;32m  11038\u001b[0m \u001b[38;5;28;01mif\u001b[39;00m method \u001b[38;5;241m==\u001b[39m \u001b[38;5;124m\"\u001b[39m\u001b[38;5;124mpearson\u001b[39m\u001b[38;5;124m\"\u001b[39m:\n\u001b[0;32m  11039\u001b[0m     correl \u001b[38;5;241m=\u001b[39m libalgos\u001b[38;5;241m.\u001b[39mnancorr(mat, minp\u001b[38;5;241m=\u001b[39mmin_periods)\n",
      "File \u001b[1;32m~\\AppData\\Local\\Programs\\Python\\Python312\\Lib\\site-packages\\pandas\\core\\frame.py:1981\u001b[0m, in \u001b[0;36mDataFrame.to_numpy\u001b[1;34m(self, dtype, copy, na_value)\u001b[0m\n\u001b[0;32m   1979\u001b[0m \u001b[38;5;28;01mif\u001b[39;00m dtype \u001b[38;5;129;01mis\u001b[39;00m \u001b[38;5;129;01mnot\u001b[39;00m \u001b[38;5;28;01mNone\u001b[39;00m:\n\u001b[0;32m   1980\u001b[0m     dtype \u001b[38;5;241m=\u001b[39m np\u001b[38;5;241m.\u001b[39mdtype(dtype)\n\u001b[1;32m-> 1981\u001b[0m result \u001b[38;5;241m=\u001b[39m \u001b[38;5;28;43mself\u001b[39;49m\u001b[38;5;241;43m.\u001b[39;49m\u001b[43m_mgr\u001b[49m\u001b[38;5;241;43m.\u001b[39;49m\u001b[43mas_array\u001b[49m\u001b[43m(\u001b[49m\u001b[43mdtype\u001b[49m\u001b[38;5;241;43m=\u001b[39;49m\u001b[43mdtype\u001b[49m\u001b[43m,\u001b[49m\u001b[43m \u001b[49m\u001b[43mcopy\u001b[49m\u001b[38;5;241;43m=\u001b[39;49m\u001b[43mcopy\u001b[49m\u001b[43m,\u001b[49m\u001b[43m \u001b[49m\u001b[43mna_value\u001b[49m\u001b[38;5;241;43m=\u001b[39;49m\u001b[43mna_value\u001b[49m\u001b[43m)\u001b[49m\n\u001b[0;32m   1982\u001b[0m \u001b[38;5;28;01mif\u001b[39;00m result\u001b[38;5;241m.\u001b[39mdtype \u001b[38;5;129;01mis\u001b[39;00m \u001b[38;5;129;01mnot\u001b[39;00m dtype:\n\u001b[0;32m   1983\u001b[0m     result \u001b[38;5;241m=\u001b[39m np\u001b[38;5;241m.\u001b[39marray(result, dtype\u001b[38;5;241m=\u001b[39mdtype, copy\u001b[38;5;241m=\u001b[39m\u001b[38;5;28;01mFalse\u001b[39;00m)\n",
      "File \u001b[1;32m~\\AppData\\Local\\Programs\\Python\\Python312\\Lib\\site-packages\\pandas\\core\\internals\\managers.py:1692\u001b[0m, in \u001b[0;36mBlockManager.as_array\u001b[1;34m(self, dtype, copy, na_value)\u001b[0m\n\u001b[0;32m   1690\u001b[0m         arr\u001b[38;5;241m.\u001b[39mflags\u001b[38;5;241m.\u001b[39mwriteable \u001b[38;5;241m=\u001b[39m \u001b[38;5;28;01mFalse\u001b[39;00m\n\u001b[0;32m   1691\u001b[0m \u001b[38;5;28;01melse\u001b[39;00m:\n\u001b[1;32m-> 1692\u001b[0m     arr \u001b[38;5;241m=\u001b[39m \u001b[38;5;28;43mself\u001b[39;49m\u001b[38;5;241;43m.\u001b[39;49m\u001b[43m_interleave\u001b[49m\u001b[43m(\u001b[49m\u001b[43mdtype\u001b[49m\u001b[38;5;241;43m=\u001b[39;49m\u001b[43mdtype\u001b[49m\u001b[43m,\u001b[49m\u001b[43m \u001b[49m\u001b[43mna_value\u001b[49m\u001b[38;5;241;43m=\u001b[39;49m\u001b[43mna_value\u001b[49m\u001b[43m)\u001b[49m\n\u001b[0;32m   1693\u001b[0m     \u001b[38;5;66;03m# The underlying data was copied within _interleave, so no need\u001b[39;00m\n\u001b[0;32m   1694\u001b[0m     \u001b[38;5;66;03m# to further copy if copy=True or setting na_value\u001b[39;00m\n\u001b[0;32m   1696\u001b[0m \u001b[38;5;28;01mif\u001b[39;00m na_value \u001b[38;5;129;01mis\u001b[39;00m lib\u001b[38;5;241m.\u001b[39mno_default:\n",
      "File \u001b[1;32m~\\AppData\\Local\\Programs\\Python\\Python312\\Lib\\site-packages\\pandas\\core\\internals\\managers.py:1751\u001b[0m, in \u001b[0;36mBlockManager._interleave\u001b[1;34m(self, dtype, na_value)\u001b[0m\n\u001b[0;32m   1749\u001b[0m     \u001b[38;5;28;01melse\u001b[39;00m:\n\u001b[0;32m   1750\u001b[0m         arr \u001b[38;5;241m=\u001b[39m blk\u001b[38;5;241m.\u001b[39mget_values(dtype)\n\u001b[1;32m-> 1751\u001b[0m     \u001b[43mresult\u001b[49m\u001b[43m[\u001b[49m\u001b[43mrl\u001b[49m\u001b[38;5;241;43m.\u001b[39;49m\u001b[43mindexer\u001b[49m\u001b[43m]\u001b[49m \u001b[38;5;241m=\u001b[39m arr\n\u001b[0;32m   1752\u001b[0m     itemmask[rl\u001b[38;5;241m.\u001b[39mindexer] \u001b[38;5;241m=\u001b[39m \u001b[38;5;241m1\u001b[39m\n\u001b[0;32m   1754\u001b[0m \u001b[38;5;28;01mif\u001b[39;00m \u001b[38;5;129;01mnot\u001b[39;00m itemmask\u001b[38;5;241m.\u001b[39mall():\n",
      "\u001b[1;31mValueError\u001b[0m: could not convert string to float: 'Apple'"
     ]
    }
   ],
   "source": [
    "data.corr()['Price_euros']"
   ]
  },
  {
   "cell_type": "markdown",
   "id": "4ee8007d",
   "metadata": {},
   "source": [
    "### Company Column"
   ]
  },
  {
   "cell_type": "code",
   "execution_count": null,
   "id": "e70362eb",
   "metadata": {},
   "outputs": [],
   "source": [
    "data['Company'].value_counts()"
   ]
  },
  {
   "cell_type": "code",
   "execution_count": null,
   "id": "af7fb897",
   "metadata": {},
   "outputs": [],
   "source": [
    "def add_company(inpt):\n",
    "    if inpt == 'Samsung' or inpt == 'Razer' or inpt == 'Mediacom' or inpt == 'Microsoft'or inpt == 'Xiaomi'or inpt == 'Vero'or inpt == 'Chuwi'or inpt == 'Google'or inpt == 'Fujitsu'or inpt == 'LG'or inpt == 'Huawei':\n",
    "        return 'Other'\n",
    "    else:\n",
    "        return inpt"
   ]
  },
  {
   "cell_type": "code",
   "execution_count": null,
   "id": "e98b54a0",
   "metadata": {},
   "outputs": [],
   "source": [
    "data['Company'] = data['Company'].apply(add_company)"
   ]
  },
  {
   "cell_type": "code",
   "execution_count": null,
   "id": "b95226e2",
   "metadata": {
    "scrolled": true
   },
   "outputs": [],
   "source": [
    "data['Company'].value_counts()"
   ]
  },
  {
   "cell_type": "markdown",
   "id": "591ed25f",
   "metadata": {},
   "source": [
    "### Product Column "
   ]
  },
  {
   "cell_type": "code",
   "execution_count": null,
   "id": "5d1fa28a",
   "metadata": {},
   "outputs": [],
   "source": [
    "len(data['Product'].value_counts())"
   ]
  },
  {
   "cell_type": "markdown",
   "id": "084a6741",
   "metadata": {},
   "source": [
    "### TypeName Column "
   ]
  },
  {
   "cell_type": "code",
   "execution_count": null,
   "id": "fedaf27c",
   "metadata": {},
   "outputs": [],
   "source": [
    "data['TypeName'].value_counts()"
   ]
  },
  {
   "cell_type": "markdown",
   "id": "810807f2",
   "metadata": {},
   "source": [
    "### ScreenResolution Column "
   ]
  },
  {
   "cell_type": "code",
   "execution_count": null,
   "id": "746e2fee",
   "metadata": {},
   "outputs": [],
   "source": [
    "data['ScreenResolution'].value_counts()"
   ]
  },
  {
   "cell_type": "code",
   "execution_count": null,
   "id": "a3ce5a33",
   "metadata": {},
   "outputs": [],
   "source": [
    "data['Touchscreen'] = data['ScreenResolution'].apply(lambda x:1 if 'Touchscreen' in x else 0)\n",
    "data['Ips'] = data['ScreenResolution'].apply(lambda x:1 if 'IPS' in x else 0)"
   ]
  },
  {
   "cell_type": "code",
   "execution_count": null,
   "id": "523cde81",
   "metadata": {
    "scrolled": true
   },
   "outputs": [],
   "source": [
    "data.head(2)"
   ]
  },
  {
   "cell_type": "markdown",
   "id": "1867cb80",
   "metadata": {},
   "source": [
    "### Cpu Column "
   ]
  },
  {
   "cell_type": "code",
   "execution_count": null,
   "id": "55a7df9f",
   "metadata": {},
   "outputs": [],
   "source": [
    "data['Cpu'].value_counts()"
   ]
  },
  {
   "cell_type": "code",
   "execution_count": null,
   "id": "1e710218",
   "metadata": {},
   "outputs": [],
   "source": [
    "data['cpu_name'] = data['Cpu'].apply(lambda x:\" \".join(x.split()[0:3]))"
   ]
  },
  {
   "cell_type": "code",
   "execution_count": null,
   "id": "0c432fbf",
   "metadata": {},
   "outputs": [],
   "source": [
    "data['cpu_name'].value_counts()"
   ]
  },
  {
   "cell_type": "code",
   "execution_count": null,
   "id": "55b79115",
   "metadata": {},
   "outputs": [],
   "source": [
    "def set_processor(name):\n",
    "    if name == 'Intel Core i7' or name == 'Intel Core i5' or name == 'Intel Core i3':\n",
    "        return name\n",
    "    else:\n",
    "        if name.split()[0] == 'AMD':\n",
    "            return 'AMD'\n",
    "        else:\n",
    "            return 'Other'"
   ]
  },
  {
   "cell_type": "code",
   "execution_count": null,
   "id": "0348b55f",
   "metadata": {},
   "outputs": [],
   "source": [
    "data['cpu_name'] = data['cpu_name'].apply(set_processor)"
   ]
  },
  {
   "cell_type": "code",
   "execution_count": null,
   "id": "02a0b648",
   "metadata": {
    "scrolled": true
   },
   "outputs": [],
   "source": [
    "data['cpu_name'].value_counts()"
   ]
  },
  {
   "cell_type": "markdown",
   "id": "a27a2c1a",
   "metadata": {},
   "source": [
    "### Ram Column "
   ]
  },
  {
   "cell_type": "code",
   "execution_count": null,
   "id": "b45a5072",
   "metadata": {},
   "outputs": [],
   "source": [
    "data['Ram'].value_counts()"
   ]
  },
  {
   "cell_type": "markdown",
   "id": "f68c2262",
   "metadata": {},
   "source": [
    "### Gpu Column "
   ]
  },
  {
   "cell_type": "code",
   "execution_count": null,
   "id": "2a0ad804",
   "metadata": {},
   "outputs": [],
   "source": [
    "data['Gpu'].value_counts()"
   ]
  },
  {
   "cell_type": "code",
   "execution_count": null,
   "id": "23e9b1fd",
   "metadata": {},
   "outputs": [],
   "source": [
    "data['gpu_name'] = data['Gpu'].apply(lambda x:\" \".join(x.split()[0:1]))"
   ]
  },
  {
   "cell_type": "code",
   "execution_count": null,
   "id": "449b0463",
   "metadata": {},
   "outputs": [],
   "source": [
    "data['gpu_name'].value_counts()"
   ]
  },
  {
   "cell_type": "code",
   "execution_count": null,
   "id": "b3c20799",
   "metadata": {},
   "outputs": [],
   "source": [
    "data.shape"
   ]
  },
  {
   "cell_type": "code",
   "execution_count": null,
   "id": "2a617275",
   "metadata": {},
   "outputs": [],
   "source": [
    "data = data[data['gpu_name'] != 'ARM']"
   ]
  },
  {
   "cell_type": "code",
   "execution_count": null,
   "id": "b7d71b6e",
   "metadata": {},
   "outputs": [],
   "source": [
    "data.shape"
   ]
  },
  {
   "cell_type": "code",
   "execution_count": null,
   "id": "1e765412",
   "metadata": {
    "scrolled": true
   },
   "outputs": [],
   "source": [
    "data.head(2)"
   ]
  },
  {
   "cell_type": "markdown",
   "id": "96e3bc46",
   "metadata": {},
   "source": [
    "### OpSys Column "
   ]
  },
  {
   "cell_type": "code",
   "execution_count": null,
   "id": "e765d214",
   "metadata": {},
   "outputs": [],
   "source": [
    "data['OpSys'].value_counts()"
   ]
  },
  {
   "cell_type": "code",
   "execution_count": null,
   "id": "f44b8c87",
   "metadata": {},
   "outputs": [],
   "source": [
    "def set_os(inpt):\n",
    "    if inpt == 'Windows 10' or inpt == 'Windows 7' or inpt == 'Windows 10 S':\n",
    "        return 'Windows'\n",
    "    elif inpt == 'macOS' or inpt == 'Mac OS X':\n",
    "        return 'Mac'\n",
    "    elif inpt == 'Linux':\n",
    "        return inpt\n",
    "    else:\n",
    "        return 'Other'"
   ]
  },
  {
   "cell_type": "code",
   "execution_count": null,
   "id": "e55c6d05",
   "metadata": {},
   "outputs": [],
   "source": [
    "data['OpSys'] = data['OpSys'].apply(set_os)"
   ]
  },
  {
   "cell_type": "code",
   "execution_count": null,
   "id": "243c2c60",
   "metadata": {},
   "outputs": [],
   "source": [
    "data['OpSys'].value_counts()"
   ]
  },
  {
   "cell_type": "code",
   "execution_count": null,
   "id": "70d8e1de",
   "metadata": {
    "scrolled": true
   },
   "outputs": [],
   "source": [
    "data.head(2)"
   ]
  },
  {
   "cell_type": "markdown",
   "id": "4b8d854e",
   "metadata": {},
   "source": [
    "### Drop unnecessary columns "
   ]
  },
  {
   "cell_type": "code",
   "execution_count": null,
   "id": "59537119",
   "metadata": {},
   "outputs": [],
   "source": [
    "data = data.drop(columns=['laptop_ID', 'Inches', 'Product', 'ScreenResolution', 'Cpu', 'Gpu'])"
   ]
  },
  {
   "cell_type": "code",
   "execution_count": null,
   "id": "a0a4e3cd",
   "metadata": {
    "scrolled": true
   },
   "outputs": [],
   "source": [
    "data.head()"
   ]
  },
  {
   "cell_type": "markdown",
   "id": "8385bf63",
   "metadata": {},
   "source": [
    "### One-Hot Encoding "
   ]
  },
  {
   "cell_type": "code",
   "execution_count": null,
   "id": "b67f4a4e",
   "metadata": {},
   "outputs": [],
   "source": [
    "data = pd.get_dummies(data)"
   ]
  },
  {
   "cell_type": "code",
   "execution_count": null,
   "id": "66f09269",
   "metadata": {},
   "outputs": [],
   "source": [
    "data.head(2)"
   ]
  },
  {
   "cell_type": "code",
   "execution_count": null,
   "id": "013bbf52",
   "metadata": {},
   "outputs": [],
   "source": [
    "data.shape"
   ]
  },
  {
   "cell_type": "markdown",
   "id": "5becd450",
   "metadata": {},
   "source": [
    "# Model Building and Selection"
   ]
  },
  {
   "cell_type": "code",
   "execution_count": null,
   "id": "d3cdaad8",
   "metadata": {},
   "outputs": [],
   "source": [
    "X = data.drop('Price_euros', axis=1)\n",
    "y = data['Price_euros']"
   ]
  },
  {
   "cell_type": "code",
   "execution_count": null,
   "id": "c1c56c80",
   "metadata": {
    "scrolled": true
   },
   "outputs": [],
   "source": [
    "!pip install sklearn"
   ]
  },
  {
   "cell_type": "markdown",
   "id": "b5d2d5c8",
   "metadata": {},
   "source": [
    "### Divide dataset into training and testing set "
   ]
  },
  {
   "cell_type": "code",
   "execution_count": null,
   "id": "c27f0bc4",
   "metadata": {},
   "outputs": [],
   "source": [
    "from sklearn.model_selection import train_test_split\n",
    "X_train, X_test, y_train, y_test = train_test_split(X, y, test_size = 0.25)"
   ]
  },
  {
   "cell_type": "code",
   "execution_count": null,
   "id": "110097a0",
   "metadata": {
    "scrolled": true
   },
   "outputs": [],
   "source": [
    "X_train.shape, X_test.shape"
   ]
  },
  {
   "cell_type": "markdown",
   "id": "66cc17ab",
   "metadata": {},
   "source": [
    "### model training "
   ]
  },
  {
   "cell_type": "code",
   "execution_count": null,
   "id": "d5870149",
   "metadata": {},
   "outputs": [],
   "source": [
    "def model_acc(model):\n",
    "    model.fit(X_train, y_train)\n",
    "    acc = model.score(X_test, y_test)\n",
    "    print(str(model)+ ' --> ' +str(acc))"
   ]
  },
  {
   "cell_type": "code",
   "execution_count": null,
   "id": "16d3b53e",
   "metadata": {},
   "outputs": [],
   "source": [
    "from sklearn.linear_model import LinearRegression\n",
    "lr = LinearRegression()\n",
    "model_acc(lr)\n",
    "\n",
    "from sklearn.linear_model import Lasso\n",
    "lasso = Lasso()\n",
    "model_acc(lasso)\n",
    "\n",
    "from sklearn.tree import DecisionTreeRegressor\n",
    "dt = DecisionTreeRegressor()\n",
    "model_acc(dt)\n",
    "\n",
    "from sklearn.ensemble import RandomForestRegressor\n",
    "rf = RandomForestRegressor()\n",
    "model_acc(rf)"
   ]
  },
  {
   "cell_type": "markdown",
   "id": "8121555d",
   "metadata": {},
   "source": [
    "### Hyperparameter tunning "
   ]
  },
  {
   "cell_type": "code",
   "execution_count": null,
   "id": "73ec02ce",
   "metadata": {},
   "outputs": [],
   "source": [
    "from sklearn.model_selection import GridSearchCV\n",
    "\n",
    "parameters = {'n_estimators':[10, 50, 100],\n",
    "              'criterion':['squared_error','absolute_error','poisson']}\n",
    "\n",
    "grid_obj = GridSearchCV(estimator=rf, param_grid=parameters)\n",
    "\n",
    "grid_fit = grid_obj.fit(X_train, y_train)\n",
    "\n",
    "best_model = grid_fit.best_estimator_\n",
    "\n",
    "best_model.score(X_test, y_test)"
   ]
  },
  {
   "cell_type": "code",
   "execution_count": null,
   "id": "6be3fb13",
   "metadata": {
    "scrolled": true
   },
   "outputs": [],
   "source": [
    "X_test.columns"
   ]
  },
  {
   "cell_type": "markdown",
   "id": "7ed81d27",
   "metadata": {},
   "source": [
    "### Save model "
   ]
  },
  {
   "cell_type": "code",
   "execution_count": null,
   "id": "89bd6b26",
   "metadata": {},
   "outputs": [],
   "source": [
    "import pickle\n",
    "with open('predictor.pickle', 'wb') as file:\n",
    "    pickle.dump(best_model, file)"
   ]
  },
  {
   "cell_type": "code",
   "execution_count": null,
   "id": "3c35b622",
   "metadata": {},
   "outputs": [],
   "source": [
    "pred_value = best_model.predict([[8, 1.3, 1, 1, 0, 1, 0, 1, 0, 0, 0, 0, 0, 0, 0, 1, 0, 0, 1, 0, 0, 1, 0, 0, 0, 0, 1, 0, 1, 0, 0]])\n",
    "pred_value"
   ]
  }
 ],
 "metadata": {
  "kernelspec": {
   "display_name": "Python 3 (ipykernel)",
   "language": "python",
   "name": "python3"
  },
  "language_info": {
   "codemirror_mode": {
    "name": "ipython",
    "version": 3
   },
   "file_extension": ".py",
   "mimetype": "text/x-python",
   "name": "python",
   "nbconvert_exporter": "python",
   "pygments_lexer": "ipython3",
   "version": "3.12.2"
  }
 },
 "nbformat": 4,
 "nbformat_minor": 5
}
